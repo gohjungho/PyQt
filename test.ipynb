{
 "cells": [
  {
   "cell_type": "code",
   "execution_count": 1,
   "metadata": {},
   "outputs": [
    {
     "name": "stdout",
     "output_type": "stream",
     "text": [
      "Collecting pyupbitNote: you may need to restart the kernel to use updated packages.\n",
      "  Using cached pyupbit-0.2.14-py3-none-any.whl (17 kB)\n",
      "Collecting websockets\n",
      "  Downloading websockets-8.1-cp38-cp38-win_amd64.whl (66 kB)\n",
      "Requirement already satisfied: pandas in c:\\users\\82109\\anaconda3\\lib\\site-packages (from pyupbit) (1.1.3)\n",
      "Collecting pyjwt>=2.0.0\n",
      "  Downloading PyJWT-2.0.1-py3-none-any.whl (15 kB)\n",
      "\n",
      "Requirement already satisfied: requests in c:\\users\\82109\\anaconda3\\lib\\site-packages (from pyupbit) (2.24.0)\n",
      "Requirement already satisfied: python-dateutil>=2.7.3 in c:\\users\\82109\\anaconda3\\lib\\site-packages (from pandas->pyupbit) (2.8.1)\n",
      "Requirement already satisfied: numpy>=1.15.4 in c:\\users\\82109\\anaconda3\\lib\\site-packages (from pandas->pyupbit) (1.19.2)\n",
      "Requirement already satisfied: pytz>=2017.2 in c:\\users\\82109\\anaconda3\\lib\\site-packages (from pandas->pyupbit) (2020.1)\n",
      "Requirement already satisfied: certifi>=2017.4.17 in c:\\users\\82109\\anaconda3\\lib\\site-packages (from requests->pyupbit) (2020.6.20)\n",
      "Requirement already satisfied: idna<3,>=2.5 in c:\\users\\82109\\anaconda3\\lib\\site-packages (from requests->pyupbit) (2.10)\n",
      "Requirement already satisfied: chardet<4,>=3.0.2 in c:\\users\\82109\\anaconda3\\lib\\site-packages (from requests->pyupbit) (3.0.4)\n",
      "Requirement already satisfied: urllib3!=1.25.0,!=1.25.1,<1.26,>=1.21.1 in c:\\users\\82109\\anaconda3\\lib\\site-packages (from requests->pyupbit) (1.25.11)\n",
      "Requirement already satisfied: six>=1.5 in c:\\users\\82109\\anaconda3\\lib\\site-packages (from python-dateutil>=2.7.3->pandas->pyupbit) (1.15.0)\n",
      "Installing collected packages: websockets, pyjwt, pyupbit\n",
      "Successfully installed pyjwt-2.0.1 pyupbit-0.2.14 websockets-8.1\n"
     ]
    }
   ],
   "source": [
    "pip install pyupbit"
   ]
  },
  {
   "cell_type": "code",
   "execution_count": 2,
   "metadata": {},
   "outputs": [
    {
     "name": "stdout",
     "output_type": "stream",
     "text": [
      "Requirement already up-to-date: pyupbit in c:\\users\\82109\\anaconda3\\lib\\site-packages (0.2.14)\n",
      "Requirement already satisfied, skipping upgrade: pandas in c:\\users\\82109\\anaconda3\\lib\\site-packages (from pyupbit) (1.1.3)\n",
      "Requirement already satisfied, skipping upgrade: websockets in c:\\users\\82109\\anaconda3\\lib\\site-packages (from pyupbit) (8.1)\n",
      "Requirement already satisfied, skipping upgrade: pyjwt>=2.0.0 in c:\\users\\82109\\anaconda3\\lib\\site-packages (from pyupbit) (2.0.1)\n",
      "Requirement already satisfied, skipping upgrade: requests in c:\\users\\82109\\anaconda3\\lib\\site-packages (from pyupbit) (2.24.0)\n",
      "Requirement already satisfied, skipping upgrade: python-dateutil>=2.7.3 in c:\\users\\82109\\anaconda3\\lib\\site-packages (from pandas->pyupbit) (2.8.1)\n",
      "Requirement already satisfied, skipping upgrade: numpy>=1.15.4 in c:\\users\\82109\\anaconda3\\lib\\site-packages (from pandas->pyupbit) (1.19.2)\n",
      "Requirement already satisfied, skipping upgrade: pytz>=2017.2 in c:\\users\\82109\\anaconda3\\lib\\site-packages (from pandas->pyupbit) (2020.1)\n",
      "Requirement already satisfied, skipping upgrade: idna<3,>=2.5 in c:\\users\\82109\\anaconda3\\lib\\site-packages (from requests->pyupbit) (2.10)\n",
      "Requirement already satisfied, skipping upgrade: chardet<4,>=3.0.2 in c:\\users\\82109\\anaconda3\\lib\\site-packages (from requests->pyupbit) (3.0.4)\n",
      "Requirement already satisfied, skipping upgrade: certifi>=2017.4.17 in c:\\users\\82109\\anaconda3\\lib\\site-packages (from requests->pyupbit) (2020.6.20)\n",
      "Requirement already satisfied, skipping upgrade: urllib3!=1.25.0,!=1.25.1,<1.26,>=1.21.1 in c:\\users\\82109\\anaconda3\\lib\\site-packages (from requests->pyupbit) (1.25.11)\n",
      "Requirement already satisfied, skipping upgrade: six>=1.5 in c:\\users\\82109\\anaconda3\\lib\\site-packages (from python-dateutil>=2.7.3->pandas->pyupbit) (1.15.0)\n",
      "Note: you may need to restart the kernel to use updated packages.\n"
     ]
    }
   ],
   "source": [
    "pip install -U pyupbit"
   ]
  },
  {
   "cell_type": "code",
   "execution_count": 4,
   "metadata": {},
   "outputs": [
    {
     "name": "stdout",
     "output_type": "stream",
     "text": [
      "['KRW-BTC', 'KRW-ETH', 'BTC-ETH', 'BTC-LTC', 'BTC-XRP', 'BTC-ETC', 'BTC-OMG', 'BTC-CVC', 'BTC-DGB', 'BTC-SC', 'BTC-SNT', 'BTC-WAVES', 'BTC-NMR', 'BTC-XEM', 'BTC-LBC', 'BTC-QTUM', 'BTC-NXT', 'BTC-BAT', 'BTC-LSK', 'BTC-RDD', 'BTC-STEEM', 'BTC-DOGE', 'BTC-BNT', 'BTC-XLM', 'BTC-ARDR', 'BTC-KMD', 'BTC-ARK', 'BTC-ADX', 'BTC-SYS', 'BTC-ANT', 'BTC-STORJ', 'BTC-GRS', 'BTC-REP', 'BTC-RLC', 'BTC-EMC2', 'USDT-BTC', 'USDT-ETH', 'USDT-LTC', 'USDT-XRP', 'USDT-ETC', 'KRW-NEO', 'KRW-MTL', 'KRW-LTC', 'KRW-XRP', 'KRW-ETC', 'KRW-OMG', 'KRW-SNT', 'KRW-WAVES', 'KRW-XEM', 'KRW-QTUM', 'KRW-LSK', 'KRW-STEEM', 'KRW-XLM', 'KRW-ARDR', 'KRW-KMD', 'KRW-ARK', 'KRW-STORJ', 'KRW-GRS', 'KRW-REP', 'KRW-EMC2', 'KRW-ADA', 'BTC-ADA', 'BTC-MANA', 'USDT-OMG', 'KRW-SBD', 'BTC-SBD', 'BTC-RCN', 'KRW-POWR', 'BTC-POWR', 'KRW-BTG', 'USDT-ADA', 'BTC-DNT', 'BTC-IGNIS', 'BTC-ZRX', 'BTC-TRX', 'BTC-TUSD', 'BTC-LRC', 'KRW-ICX', 'KRW-EOS', 'BTC-DMT', 'USDT-TUSD', 'KRW-TRX', 'BTC-POLY', 'BTC-PRO', 'USDT-SC', 'USDT-TRX', 'KRW-SC', 'KRW-IGNIS', 'KRW-ONT', 'KRW-ZIL', 'KRW-POLY', 'KRW-ZRX', 'KRW-LOOM', 'BTC-BCH', 'USDT-BCH', 'KRW-BCH', 'BTC-MFT', 'BTC-LOOM', 'KRW-ADX', 'KRW-BAT', 'KRW-IOST', 'BTC-RFR', 'KRW-DMT', 'KRW-RFR', 'USDT-DGB', 'KRW-CVC', 'KRW-IQ', 'KRW-IOTA', 'BTC-RVN', 'BTC-BFT', 'BTC-GO', 'BTC-UPP', 'BTC-ENJ', 'KRW-MFT', 'BTC-EDR', 'KRW-ONG', 'KRW-GAS', 'BTC-MTL', 'KRW-UPP', 'KRW-ELF', 'USDT-DOGE', 'USDT-ZRX', 'USDT-RVN', 'USDT-BAT', 'KRW-KNC', 'BTC-PAX', 'BTC-MOC', 'BTC-ZIL', 'KRW-BSV', 'BTC-BSV', 'BTC-IOST', 'KRW-THETA', 'BTC-NCASH', 'KRW-EDR', 'BTC-DENT', 'KRW-QKC', 'BTC-ELF', 'KRW-BTT', 'BTC-BTT', 'BTC-VITE', 'BTC-IOTX', 'BTC-SOLVE', 'BTC-NKN', 'BTC-META', 'KRW-MOC', 'BTC-ANKR', 'BTC-CRO', 'KRW-ENJ', 'KRW-TFUEL', 'BTC-FSN', 'KRW-MANA', 'KRW-ANKR', 'BTC-ORBS', 'BTC-AERGO', 'BTC-PI', 'KRW-AERGO', 'KRW-ATOM', 'KRW-TT', 'KRW-CRE', 'KRW-SOLVE', 'BTC-ATOM', 'BTC-STPT', 'KRW-MBL', 'BTC-LAMB', 'BTC-EOS', 'BTC-LUNA', 'BTC-DAI', 'BTC-MKR', 'BTC-BORA', 'KRW-TSHP', 'BTC-TSHP', 'KRW-WAXP', 'BTC-WAXP', 'KRW-HBAR', 'KRW-MED', 'BTC-MED', 'BTC-MLK', 'KRW-MLK', 'BTC-PXL', 'KRW-STPT', 'BTC-VET', 'KRW-ORBS', 'BTC-CHZ', 'KRW-VET', 'BTC-FX', 'BTC-OGN', 'KRW-CHZ', 'KRW-PXL', 'BTC-ITAM', 'BTC-XTZ', 'BTC-HIVE', 'BTC-HBD', 'BTC-OBSR', 'BTC-DKA', 'KRW-STMX', 'BTC-STMX', 'BTC-AHT', 'BTC-PCI', 'BTC-RINGX', 'KRW-DKA', 'BTC-LINK', 'KRW-HIVE', 'KRW-KAVA', 'BTC-KAVA', 'KRW-AHT', 'KRW-LINK', 'KRW-XTZ', 'KRW-BORA', 'BTC-JST', 'BTC-CHR', 'BTC-DAD', 'BTC-TON', 'KRW-JST', 'BTC-CTSI', 'BTC-DOT', 'KRW-CRO', 'BTC-COMP', 'BTC-SXP', 'BTC-HUNT', 'KRW-TON', 'BTC-ONIT', 'BTC-CRV', 'BTC-ALGO', 'BTC-RSR', 'KRW-SXP', 'BTC-OXT', 'BTC-PLA', 'KRW-LAMB', 'KRW-HUNT', 'BTC-MARO', 'KRW-MARO', 'BTC-SAND', 'BTC-SUN', 'KRW-PLA', 'KRW-DOT', 'BTC-SRM', 'BTC-QTCON', 'BTC-MVL', 'KRW-SRM', 'KRW-MVL', 'BTC-GXC', 'KRW-PCI', 'BTC-AQT', 'BTC-AXS', 'BTC-STRAX', 'KRW-STRAX', 'KRW-AQT', 'BTC-BCHA', 'KRW-BCHA', 'BTC-GLM', 'KRW-GLM', 'KRW-QTCON', 'BTC-FCT2', 'BTC-SSX', 'KRW-SSX', 'KRW-META', 'KRW-OBSR', 'KRW-FCT2', 'BTC-FIL', 'KRW-LBC', 'BTC-UNI', 'BTC-BASIC', 'BTC-INJ', 'BTC-PROM', 'BTC-VAL', 'BTC-PSG', 'BTC-JUV', 'BTC-CBK', 'BTC-FOR', 'KRW-CBK', 'BTC-BFC', 'BTC-LINA', 'BTC-HUM', 'BTC-PICA', 'BTC-CELO', 'KRW-SAND', 'KRW-HUM', 'BTC-IQ', 'BTC-STX', 'KRW-DOGE', 'BTC-NEAR', 'BTC-AUCTION', 'BTC-DAWN', 'BTC-FLOW', 'BTC-STRK', 'KRW-STRK', 'BTC-PUNDIX', 'KRW-PUNDIX', 'KRW-FLOW', 'KRW-DAWN', 'KRW-AXS', 'KRW-STX', 'BTC-GRT', 'BTC-SNX']\n"
     ]
    }
   ],
   "source": [
    "import pyupbit\n",
    "\n",
    "tickers = pyupbit.get_tickers()\n",
    "print(tickers)"
   ]
  },
  {
   "cell_type": "code",
   "execution_count": 5,
   "metadata": {},
   "outputs": [
    {
     "name": "stdout",
     "output_type": "stream",
     "text": [
      "['KRW-BTC', 'KRW-ETH', 'KRW-NEO', 'KRW-MTL', 'KRW-LTC', 'KRW-XRP', 'KRW-ETC', 'KRW-OMG', 'KRW-SNT', 'KRW-WAVES', 'KRW-XEM', 'KRW-QTUM', 'KRW-LSK', 'KRW-STEEM', 'KRW-XLM', 'KRW-ARDR', 'KRW-KMD', 'KRW-ARK', 'KRW-STORJ', 'KRW-GRS', 'KRW-REP', 'KRW-EMC2', 'KRW-ADA', 'KRW-SBD', 'KRW-POWR', 'KRW-BTG', 'KRW-ICX', 'KRW-EOS', 'KRW-TRX', 'KRW-SC', 'KRW-IGNIS', 'KRW-ONT', 'KRW-ZIL', 'KRW-POLY', 'KRW-ZRX', 'KRW-LOOM', 'KRW-BCH', 'KRW-ADX', 'KRW-BAT', 'KRW-IOST', 'KRW-DMT', 'KRW-RFR', 'KRW-CVC', 'KRW-IQ', 'KRW-IOTA', 'KRW-MFT', 'KRW-ONG', 'KRW-GAS', 'KRW-UPP', 'KRW-ELF', 'KRW-KNC', 'KRW-BSV', 'KRW-THETA', 'KRW-EDR', 'KRW-QKC', 'KRW-BTT', 'KRW-MOC', 'KRW-ENJ', 'KRW-TFUEL', 'KRW-MANA', 'KRW-ANKR', 'KRW-AERGO', 'KRW-ATOM', 'KRW-TT', 'KRW-CRE', 'KRW-SOLVE', 'KRW-MBL', 'KRW-TSHP', 'KRW-WAXP', 'KRW-HBAR', 'KRW-MED', 'KRW-MLK', 'KRW-STPT', 'KRW-ORBS', 'KRW-VET', 'KRW-CHZ', 'KRW-PXL', 'KRW-STMX', 'KRW-DKA', 'KRW-HIVE', 'KRW-KAVA', 'KRW-AHT', 'KRW-LINK', 'KRW-XTZ', 'KRW-BORA', 'KRW-JST', 'KRW-CRO', 'KRW-TON', 'KRW-SXP', 'KRW-LAMB', 'KRW-HUNT', 'KRW-MARO', 'KRW-PLA', 'KRW-DOT', 'KRW-SRM', 'KRW-MVL', 'KRW-PCI', 'KRW-STRAX', 'KRW-AQT', 'KRW-BCHA', 'KRW-GLM', 'KRW-QTCON', 'KRW-SSX', 'KRW-META', 'KRW-OBSR', 'KRW-FCT2', 'KRW-LBC', 'KRW-CBK', 'KRW-SAND', 'KRW-HUM', 'KRW-DOGE', 'KRW-STRK', 'KRW-PUNDIX', 'KRW-FLOW', 'KRW-DAWN', 'KRW-AXS', 'KRW-STX']\n"
     ]
    }
   ],
   "source": [
    "tickers = pyupbit.get_tickers(fiat=\"KRW\")\n",
    "print(tickers)"
   ]
  },
  {
   "cell_type": "code",
   "execution_count": 6,
   "metadata": {},
   "outputs": [
    {
     "name": "stdout",
     "output_type": "stream",
     "text": [
      "1765.0\n"
     ]
    }
   ],
   "source": [
    "price = pyupbit.get_current_price(\"KRW-XRP\") # 리플 현재가 조회 \n",
    "print(price)"
   ]
  },
  {
   "cell_type": "code",
   "execution_count": 7,
   "metadata": {},
   "outputs": [
    {
     "name": "stdout",
     "output_type": "stream",
     "text": [
      "2.545e-05\n"
     ]
    }
   ],
   "source": [
    "price = pyupbit.get_current_price(\"BTC-XRP\") # BTC 시장에서의 리플 현재가를 조회\n",
    "print(price)"
   ]
  },
  {
   "cell_type": "code",
   "execution_count": 11,
   "metadata": {},
   "outputs": [
    {
     "name": "stdout",
     "output_type": "stream",
     "text": [
      "{'KRW-BTC': 69682000.0, 'KRW-XRP': 1760.0}\n"
     ]
    }
   ],
   "source": [
    "price = pyupbit.get_current_price([\"KRW-BTC\", \"KRW-XRP\"]) # 한번에 조회\n",
    "print(price)"
   ]
  },
  {
   "cell_type": "code",
   "execution_count": 9,
   "metadata": {},
   "outputs": [
    {
     "name": "stdout",
     "output_type": "stream",
     "text": [
      "                           open        high         low       close  \\\n",
      "2020-10-04 09:00:00  12393000.0  12496000.0  12348000.0  12447000.0   \n",
      "2020-10-05 09:00:00  12446000.0  12545000.0  12385000.0  12536000.0   \n",
      "2020-10-06 09:00:00  12536000.0  12600000.0  12330000.0  12418000.0   \n",
      "2020-10-07 09:00:00  12408000.0  12435000.0  12337000.0  12423000.0   \n",
      "2020-10-08 09:00:00  12422000.0  12680000.0  12280000.0  12582000.0   \n",
      "...                         ...         ...         ...         ...   \n",
      "2021-04-17 09:00:00  79322000.0  79950000.0  77500000.0  77905000.0   \n",
      "2021-04-18 09:00:00  77909000.0  78365000.0  70924000.0  75643000.0   \n",
      "2021-04-19 09:00:00  75692000.0  76829000.0  70780000.0  71456000.0   \n",
      "2021-04-20 09:00:00  71448000.0  72077000.0  66001000.0  70402000.0   \n",
      "2021-04-21 09:00:00  70400000.0  71490000.0  69184000.0  69649000.0   \n",
      "\n",
      "                           volume  \n",
      "2020-10-04 09:00:00    869.827279  \n",
      "2020-10-05 09:00:00   1578.027830  \n",
      "2020-10-06 09:00:00   1745.875329  \n",
      "2020-10-07 09:00:00   1357.358223  \n",
      "2020-10-08 09:00:00   2422.119262  \n",
      "...                           ...  \n",
      "2021-04-17 09:00:00   6395.586964  \n",
      "2021-04-18 09:00:00  16045.533435  \n",
      "2021-04-19 09:00:00  11873.849833  \n",
      "2021-04-20 09:00:00  15744.700222  \n",
      "2021-04-21 09:00:00   1751.806784  \n",
      "\n",
      "[200 rows x 5 columns]\n"
     ]
    }
   ],
   "source": [
    "df = pyupbit.get_ohlcv(\"KRW-BTC\") # 과거 데이터 조회\n",
    "print(df)"
   ]
  },
  {
   "cell_type": "code",
   "execution_count": 16,
   "metadata": {},
   "outputs": [
    {
     "name": "stdout",
     "output_type": "stream",
     "text": [
      "                       open    high     low   close        volume\n",
      "2020-10-04 09:00:00   273.0   293.0   272.0   290.0  6.960840e+07\n",
      "2020-10-05 09:00:00   289.0   298.0   287.0   291.0  7.887148e+07\n",
      "2020-10-06 09:00:00   291.0   301.0   282.0   288.0  1.220301e+08\n",
      "2020-10-07 09:00:00   287.0   293.0   281.0   290.0  4.945642e+07\n",
      "2020-10-08 09:00:00   290.0   292.0   281.0   290.0  6.901945e+07\n",
      "...                     ...     ...     ...     ...           ...\n",
      "2021-04-17 09:00:00  2030.0  2210.0  1985.0  2005.0  7.670525e+08\n",
      "2021-04-18 09:00:00  2005.0  2030.0  1565.0  1895.0  2.095185e+09\n",
      "2021-04-19 09:00:00  1900.0  1985.0  1655.0  1690.0  1.361249e+09\n",
      "2021-04-20 09:00:00  1695.0  1800.0  1455.0  1725.0  1.751128e+09\n",
      "2021-04-21 09:00:00  1720.0  1840.0  1710.0  1765.0  2.982789e+08\n",
      "\n",
      "[200 rows x 5 columns]\n"
     ]
    }
   ],
   "source": [
    "df = pyupbit.get_ohlcv(\"KRW-XRP\", interval=\"minute\")\n",
    "print(df)"
   ]
  },
  {
   "cell_type": "code",
   "execution_count": 17,
   "metadata": {},
   "outputs": [
    {
     "name": "stdout",
     "output_type": "stream",
     "text": [
      "[{'market': 'KRW-BTC', 'timestamp': 1618978080657, 'total_ask_size': 5.23378623, 'total_bid_size': 1.83962648, 'orderbook_units': [{'ask_price': 69575000.0, 'bid_price': 69571000.0, 'ask_size': 0.00028746, 'bid_size': 0.00951649}, {'ask_price': 69599000.0, 'bid_price': 69570000.0, 'ask_size': 0.1824, 'bid_size': 0.81980746}, {'ask_price': 69630000.0, 'bid_price': 69568000.0, 'ask_size': 0.1862, 'bid_size': 0.00143744}, {'ask_price': 69633000.0, 'bid_price': 69538000.0, 'ask_size': 0.6214937, 'bid_size': 0.17659083}, {'ask_price': 69635000.0, 'bid_price': 69503000.0, 'ask_size': 2.28290696, 'bid_size': 0.0034444}, {'ask_price': 69650000.0, 'bid_price': 69502000.0, 'ask_size': 0.00011192, 'bid_size': 0.18200914}, {'ask_price': 69651000.0, 'bid_price': 69501000.0, 'ask_size': 0.1919, 'bid_size': 0.05276135}, {'ask_price': 69672000.0, 'bid_price': 69500000.0, 'ask_size': 0.003839, 'bid_size': 0.04577465}, {'ask_price': 69676000.0, 'bid_price': 69498000.0, 'ask_size': 0.007, 'bid_size': 0.00281532}, {'ask_price': 69683000.0, 'bid_price': 69477000.0, 'ask_size': 0.00430072, 'bid_size': 0.19}, {'ask_price': 69689000.0, 'bid_price': 69470000.0, 'ask_size': 0.00679581, 'bid_size': 0.00913851}, {'ask_price': 69692000.0, 'bid_price': 69452000.0, 'ask_size': 1.67393099, 'bid_size': 0.08388241}, {'ask_price': 69699000.0, 'bid_price': 69450000.0, 'ask_size': 0.00179366, 'bid_size': 0.01624848}, {'ask_price': 69700000.0, 'bid_price': 69441000.0, 'ask_size': 0.02395972, 'bid_size': 0.1957}, {'ask_price': 69701000.0, 'bid_price': 69430000.0, 'ask_size': 0.04686629, 'bid_size': 0.0505}]}]\n"
     ]
    }
   ],
   "source": [
    "orderbook = pyupbit.get_orderbook(\"KRW-BTC\")\n",
    "print(orderbook)"
   ]
  },
  {
   "cell_type": "code",
   "execution_count": 18,
   "metadata": {},
   "outputs": [
    {
     "name": "stdout",
     "output_type": "stream",
     "text": [
      "{'ask_price': 69502000.0, 'bid_price': 69501000.0, 'ask_size': 0.00605211, 'bid_size': 0.0501485}\n",
      "{'ask_price': 69538000.0, 'bid_price': 69500000.0, 'ask_size': 0.09784363, 'bid_size': 0.33782202}\n",
      "{'ask_price': 69539000.0, 'bid_price': 69499000.0, 'ask_size': 0.70267878, 'bid_size': 0.16709112}\n",
      "{'ask_price': 69555000.0, 'bid_price': 69498000.0, 'ask_size': 0.1843, 'bid_size': 0.02268913}\n",
      "{'ask_price': 69566000.0, 'bid_price': 69478000.0, 'ask_size': 0.12063165, 'bid_size': 0.00014393}\n",
      "{'ask_price': 69567000.0, 'bid_price': 69475000.0, 'ask_size': 0.00148437, 'bid_size': 0.02629909}\n",
      "{'ask_price': 69568000.0, 'bid_price': 69471000.0, 'ask_size': 0.00956228, 'bid_size': 0.00148697}\n",
      "{'ask_price': 69570000.0, 'bid_price': 69470000.0, 'ask_size': 0.0191908, 'bid_size': 0.11888979}\n",
      "{'ask_price': 69580000.0, 'bid_price': 69460000.0, 'ask_size': 0.0007186, 'bid_size': 0.0134044}\n",
      "{'ask_price': 69596000.0, 'bid_price': 69452000.0, 'ask_size': 0.02446425, 'bid_size': 0.07958521}\n",
      "{'ask_price': 69625000.0, 'bid_price': 69450000.0, 'ask_size': 1.67359067, 'bid_size': 0.02527154}\n",
      "{'ask_price': 69627000.0, 'bid_price': 69442000.0, 'ask_size': 0.04025767, 'bid_size': 0.65227124}\n",
      "{'ask_price': 69635000.0, 'bid_price': 69441000.0, 'ask_size': 2.27894769, 'bid_size': 0.01484471}\n",
      "{'ask_price': 69650000.0, 'bid_price': 69440000.0, 'ask_size': 0.00011192, 'bid_size': 0.00143202}\n",
      "{'ask_price': 69672000.0, 'bid_price': 69430000.0, 'ask_size': 0.003839, 'bid_size': 0.00014403}\n"
     ]
    }
   ],
   "source": [
    "import pyupbit\n",
    "\n",
    "orderbook = pyupbit.get_orderbook(\"KRW-BTC\")\n",
    "bids_asks = orderbook[0]['orderbook_units']\n",
    " \n",
    "for bid_ask in bids_asks:\n",
    "    print(bid_ask)"
   ]
  },
  {
   "cell_type": "code",
   "execution_count": 19,
   "metadata": {},
   "outputs": [
    {
     "name": "stdout",
     "output_type": "stream",
     "text": [
      "[{'currency': 'KRW', 'balance': '0.25845619', 'locked': '0.0', 'avg_buy_price': '0', 'avg_buy_price_modified': True, 'unit_currency': 'KRW'}, {'currency': 'SRM', 'balance': '0.0', 'locked': '15.67766936', 'avg_buy_price': '7625', 'avg_buy_price_modified': False, 'unit_currency': 'KRW'}]\n"
     ]
    }
   ],
   "source": [
    "import pyupbit\n",
    "\n",
    "access_key = \"DAk9rXqPvfit5BUFspEH8KgTDR7xzroPT60hSCjx\"\n",
    "secret_key = \"5kpg2xcaPWx7MujjVMjN9PEvXMfHq7Rvxf5zuete\"\n",
    "\n",
    "upbit = pyupbit.Upbit(access_key, secret_key)\n",
    "print(upbit.get_balances())"
   ]
  },
  {
   "cell_type": "code",
   "execution_count": null,
   "metadata": {},
   "outputs": [],
   "source": []
  }
 ],
 "metadata": {
  "kernelspec": {
   "display_name": "Python 3",
   "language": "python",
   "name": "python3"
  },
  "language_info": {
   "codemirror_mode": {
    "name": "ipython",
    "version": 3
   },
   "file_extension": ".py",
   "mimetype": "text/x-python",
   "name": "python",
   "nbconvert_exporter": "python",
   "pygments_lexer": "ipython3",
   "version": "3.8.5"
  }
 },
 "nbformat": 4,
 "nbformat_minor": 4
}
